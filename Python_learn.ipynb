{
 "cells": [
  {
   "cell_type": "code",
   "execution_count": null,
   "id": "4cb957e9",
   "metadata": {
    "scrolled": true,
    "slideshow": {
     "slide_type": "notes"
    }
   },
   "outputs": [],
   "source": [
    "friends = ['tantoh', 'jojo', 'gamma']\n",
    "for friend in friends:\n",
    "    print('Happy New Year: ', friend)\n",
    "print('done!')"
   ]
  },
  {
   "cell_type": "code",
   "execution_count": null,
   "id": "33b14c4b",
   "metadata": {},
   "outputs": [],
   "source": [
    "count = 0\n",
    "for itervar in [1, 4, 5, 2, 9, 6]:\n",
    "    count = count + 1\n",
    "print('Count: ', count)"
   ]
  },
  {
   "cell_type": "code",
   "execution_count": null,
   "id": "3f5177b4",
   "metadata": {},
   "outputs": [],
   "source": [
    "import pandas as pd"
   ]
  },
  {
   "cell_type": "code",
   "execution_count": null,
   "id": "3e3e3d8b",
   "metadata": {},
   "outputs": [],
   "source": [
    "data = {'Country': ['Cameroon', 'Nigeria', 'Tchad'],\n",
    "        'Capital': ['Yaounde', 'Abuja', 'Ndjamena'], \n",
    "        'Population': [1892890, 723963270, 28093783]}"
   ]
  },
  {
   "cell_type": "code",
   "execution_count": null,
   "id": "b6a14062",
   "metadata": {},
   "outputs": [],
   "source": [
    "df = pd.DataFrame(data=data,\n",
    "    columns =['Country', 'Capital', 'Population'], dtype = str )"
   ]
  },
  {
   "cell_type": "code",
   "execution_count": null,
   "id": "37e7554b",
   "metadata": {},
   "outputs": [],
   "source": [
    "df"
   ]
  },
  {
   "cell_type": "code",
   "execution_count": null,
   "id": "2fd11ed8",
   "metadata": {},
   "outputs": [],
   "source": [
    "count = 0\n",
    "total = 0\n",
    "for items in [1, 4, 5, 2, 9, 6]:\n",
    "    total = total + items\n",
    "    count = count + 1\n",
    "print('total: ', total, '\\ncount: ', count)"
   ]
  },
  {
   "cell_type": "code",
   "execution_count": null,
   "id": "05b38f3d",
   "metadata": {},
   "outputs": [],
   "source": [
    "largest = None\n",
    "print('Before: ', largest)\n",
    "\n",
    "for i in [1, 4, 5, 2, 9, 6]:\n",
    "    if largest is None or i>largest:\n",
    "        largest = i\n",
    "    print('loop: ', i, largest)\n",
    "print('Lagest: ', largest)"
   ]
  },
  {
   "cell_type": "code",
   "execution_count": null,
   "id": "2444ae06",
   "metadata": {},
   "outputs": [],
   "source": [
    "values = [1, 4, 5, 2, 9, 6]\n",
    "def __min__(values):\n",
    "    smallest = None\n",
    "    for value in values:\n",
    "        if smallest is None or value < smallest:\n",
    "            smallest = value\n",
    "        return smallest"
   ]
  },
  {
   "cell_type": "code",
   "execution_count": null,
   "id": "04fbbf39",
   "metadata": {},
   "outputs": [],
   "source": [
    "__min__(values)"
   ]
  },
  {
   "cell_type": "code",
   "execution_count": null,
   "id": "d40f83cd",
   "metadata": {},
   "outputs": [],
   "source": [
    "import numpy as np"
   ]
  },
  {
   "cell_type": "code",
   "execution_count": null,
   "id": "e3b49489",
   "metadata": {},
   "outputs": [],
   "source": [
    "x = np.array(12)"
   ]
  },
  {
   "cell_type": "code",
   "execution_count": null,
   "id": "0b49fa9e",
   "metadata": {},
   "outputs": [],
   "source": [
    "x"
   ]
  },
  {
   "cell_type": "code",
   "execution_count": null,
   "id": "79cef083",
   "metadata": {},
   "outputs": [],
   "source": [
    "print(x)"
   ]
  },
  {
   "cell_type": "code",
   "execution_count": null,
   "id": "3d932212",
   "metadata": {},
   "outputs": [],
   "source": [
    "x.ndim"
   ]
  },
  {
   "cell_type": "code",
   "execution_count": null,
   "id": "7b8dbce6",
   "metadata": {},
   "outputs": [],
   "source": [
    "y = np.array([1, 2, 3, 4, 5])"
   ]
  },
  {
   "cell_type": "code",
   "execution_count": null,
   "id": "6f00b48d",
   "metadata": {},
   "outputs": [],
   "source": [
    "y.ndim"
   ]
  },
  {
   "cell_type": "code",
   "execution_count": null,
   "id": "c745709e",
   "metadata": {},
   "outputs": [],
   "source": [
    "z = np.array([[2, 1, 3, 4], \n",
    "              [2, 4, 5, 1]])"
   ]
  },
  {
   "cell_type": "code",
   "execution_count": null,
   "id": "b7c7e949",
   "metadata": {},
   "outputs": [],
   "source": [
    "z.ndim"
   ]
  },
  {
   "cell_type": "code",
   "execution_count": null,
   "id": "259eb0e5",
   "metadata": {},
   "outputs": [],
   "source": [
    "t = np.array([[[1, 2],\n",
    "               [2, 3]],\n",
    "              [[3, 4], \n",
    "               [4, 5]], \n",
    "              [[5, 6], \n",
    "               [6, 7]]])\n",
    "t_2 = np.array([[[1.2, 2.3],\n",
    "                [3.2, 1.3]], \n",
    "               [[2.4, 1.5], \n",
    "                [5.6, 4.2]], \n",
    "               [[2.5, 2.3], \n",
    "                [1.0, 2.1]]])"
   ]
  },
  {
   "cell_type": "code",
   "execution_count": null,
   "id": "c2346a38",
   "metadata": {},
   "outputs": [],
   "source": [
    "t.ndim"
   ]
  },
  {
   "cell_type": "code",
   "execution_count": null,
   "id": "90cd1be0",
   "metadata": {},
   "outputs": [],
   "source": [
    "t.shape"
   ]
  },
  {
   "cell_type": "markdown",
   "id": "eac3f7f7",
   "metadata": {},
   "source": [
    "# Dictionaries"
   ]
  },
  {
   "cell_type": "code",
   "execution_count": null,
   "id": "1b1ed9f7",
   "metadata": {},
   "outputs": [],
   "source": [
    "friend = {\"Gaya\": \"Sylvestre\", 'gamma' : 'beta', 'lambda_' : 'alpha'}"
   ]
  },
  {
   "cell_type": "code",
   "execution_count": null,
   "id": "e6089d44",
   "metadata": {},
   "outputs": [],
   "source": [
    "friend"
   ]
  },
  {
   "cell_type": "code",
   "execution_count": null,
   "id": "59f8cba5",
   "metadata": {},
   "outputs": [],
   "source": [
    "# friend.values()"
   ]
  },
  {
   "cell_type": "code",
   "execution_count": null,
   "id": "87212cc1",
   "metadata": {},
   "outputs": [],
   "source": [
    "print(friend[\"Gaya\"])"
   ]
  },
  {
   "cell_type": "code",
   "execution_count": null,
   "id": "b890316e",
   "metadata": {},
   "outputs": [],
   "source": [
    "\"omega\" in friend"
   ]
  },
  {
   "cell_type": "code",
   "execution_count": null,
   "id": "c2267cb5",
   "metadata": {},
   "outputs": [],
   "source": [
    "import string\n",
    "import pandas as pd\n",
    "string.punctuation"
   ]
  },
  {
   "cell_type": "code",
   "execution_count": null,
   "id": "15f3037b",
   "metadata": {},
   "outputs": [],
   "source": [
    "d = {'a': 10, 'b': 1, 'c': 22}\n",
    "\n",
    "# for key, value in list(d.items()):\n",
    "print(pd.DataFrame(data = d, index = [\"1\", \"2\", \"3\"], columns = ['a', 'b', 'c'], dtype = str))\n"
   ]
  },
  {
   "cell_type": "code",
   "execution_count": null,
   "id": "891f6ca9",
   "metadata": {},
   "outputs": [],
   "source": [
    "list(d.items())"
   ]
  },
  {
   "cell_type": "code",
   "execution_count": null,
   "id": "723ae427",
   "metadata": {},
   "outputs": [],
   "source": [
    "\n",
    "\n",
    "class PartyAnimal:\n",
    "    x = 0\n",
    "    def party(self):\n",
    "        self.x = self.x + 1\n",
    "        print('so far', self.x)\n",
    "an = PartyAnimal()"
   ]
  },
  {
   "cell_type": "code",
   "execution_count": null,
   "id": "5041a295",
   "metadata": {},
   "outputs": [],
   "source": [
    "an.party()\n"
   ]
  },
  {
   "cell_type": "code",
   "execution_count": null,
   "id": "a6c2fa93",
   "metadata": {},
   "outputs": [],
   "source": [
    "an.party()"
   ]
  },
  {
   "cell_type": "code",
   "execution_count": null,
   "id": "af370854",
   "metadata": {},
   "outputs": [],
   "source": [
    "PartyAnimal.party(an)"
   ]
  },
  {
   "cell_type": "code",
   "execution_count": null,
   "id": "3dcd2bac",
   "metadata": {},
   "outputs": [],
   "source": [
    "PartyAnimal.party(PartyAnimal())"
   ]
  },
  {
   "cell_type": "code",
   "execution_count": null,
   "id": "46bde118",
   "metadata": {},
   "outputs": [],
   "source": [
    "stuff = list()"
   ]
  },
  {
   "cell_type": "code",
   "execution_count": null,
   "id": "4590c1cb",
   "metadata": {},
   "outputs": [],
   "source": [
    "dir(stuff)"
   ]
  },
  {
   "cell_type": "code",
   "execution_count": null,
   "id": "5b6f289f",
   "metadata": {},
   "outputs": [],
   "source": [
    "a_tuple = ()"
   ]
  },
  {
   "cell_type": "code",
   "execution_count": null,
   "id": "df8a5ffd",
   "metadata": {},
   "outputs": [],
   "source": [
    "dir(a_tuple)"
   ]
  },
  {
   "cell_type": "code",
   "execution_count": null,
   "id": "31a1d7f2",
   "metadata": {},
   "outputs": [],
   "source": [
    "a_dict = {}"
   ]
  },
  {
   "cell_type": "code",
   "execution_count": null,
   "id": "f2034a24",
   "metadata": {},
   "outputs": [],
   "source": [
    "dir(a_dict)"
   ]
  },
  {
   "cell_type": "code",
   "execution_count": null,
   "id": "bd3ab5f4",
   "metadata": {},
   "outputs": [],
   "source": [
    "import urllib.request, urllib.parse, urllib.error\n",
    "from bs4 import BeautifulSoup\n",
    "import ssl"
   ]
  },
  {
   "cell_type": "code",
   "execution_count": null,
   "id": "4a93ce74",
   "metadata": {},
   "outputs": [],
   "source": [
    "ctx = ssl.create_default_context()\n",
    "ctx.check_hostname = True\n",
    "ctx.verfy_mode = ssl.CERT_NONE\n"
   ]
  },
  {
   "cell_type": "code",
   "execution_count": null,
   "id": "d6337332",
   "metadata": {},
   "outputs": [],
   "source": [
    "url = input('Enter -')\n",
    "html = urllib.request.urlopen(url, context = ctx).read()\n",
    "soup = BeautifulSoup(html, 'html.parser')"
   ]
  },
  {
   "cell_type": "code",
   "execution_count": null,
   "id": "3520b993",
   "metadata": {},
   "outputs": [],
   "source": [
    "tags = soup('a')\n",
    "for tag in tags:\n",
    "    print(tag.get('href', None))"
   ]
  },
  {
   "cell_type": "code",
   "execution_count": null,
   "id": "80096846",
   "metadata": {},
   "outputs": [],
   "source": []
  },
  {
   "cell_type": "code",
   "execution_count": null,
   "id": "27255fec",
   "metadata": {},
   "outputs": [],
   "source": [
    "class PartyAnimal:\n",
    "    x = 0\n",
    "    name = ''\n",
    "    def __init__(self, nam):\n",
    "        self.name = nam\n",
    "        print(self.name, 'constructed is ')\n",
    "        \n",
    "    def party(self):\n",
    "        self.x = self.x + 1\n",
    "        print(self.name,'party count', self.x)"
   ]
  },
  {
   "cell_type": "code",
   "execution_count": null,
   "id": "fd48ad0a",
   "metadata": {},
   "outputs": [],
   "source": [
    "s = PartyAnimal('Sylvestre').party()"
   ]
  },
  {
   "cell_type": "code",
   "execution_count": null,
   "id": "ff46b637",
   "metadata": {},
   "outputs": [],
   "source": []
  },
  {
   "cell_type": "code",
   "execution_count": null,
   "id": "5fc1fe5d",
   "metadata": {},
   "outputs": [],
   "source": [
    "<html><head>\n",
    "\n",
    "\n",
    "<!-- Load require.js. Delete this if your page already loads require.js -->\n",
    "<script src=\"https://cdnjs.cloudflare.com/ajax/libs/require.js/2.3.4/require.min.js\" integrity=\"sha256-Ae2Vz/4ePdIu6ZyI/5ZGsYnb+m0JlOmKPjt6XZ9JJkA=\" crossorigin=\"anonymous\"></script>\n",
    "<script src=\"https://unpkg.com/@jupyter-widgets/html-manager@*/dist/embed-amd.js\" crossorigin=\"anonymous\"></script>\n",
    "<script type=\"application/vnd.jupyter.widget-state+json\">\n",
    "{\n",
    "    \"version_major\": 2,\n",
    "    \"version_minor\": 0,\n",
    "    \"state\": {}\n",
    "}\n",
    "</script>\n",
    "</head>\n",
    "<body>\n",
    "\n",
    "\n",
    "</body>\n",
    "</html>\n"
   ]
  },
  {
   "cell_type": "code",
   "execution_count": null,
   "id": "43c8a2a4",
   "metadata": {},
   "outputs": [],
   "source": [
    "astr = 'From Stephen.marquart@uct.ac.za Sat Jan 5 09:14:16 2008'"
   ]
  },
  {
   "cell_type": "code",
   "execution_count": null,
   "id": "e3e4649d",
   "metadata": {},
   "outputs": [],
   "source": [
    "atpos = astr.find('@')"
   ]
  },
  {
   "cell_type": "code",
   "execution_count": null,
   "id": "26ebd013",
   "metadata": {},
   "outputs": [],
   "source": [
    "atpos"
   ]
  },
  {
   "cell_type": "code",
   "execution_count": null,
   "id": "f4d7adc9",
   "metadata": {},
   "outputs": [],
   "source": [
    "sppos = astr.find(' ', atpos)"
   ]
  },
  {
   "cell_type": "code",
   "execution_count": null,
   "id": "72bca0a6",
   "metadata": {},
   "outputs": [],
   "source": [
    "sppos"
   ]
  },
  {
   "cell_type": "code",
   "execution_count": null,
   "id": "64748019",
   "metadata": {},
   "outputs": [],
   "source": [
    "host = astr[atpos+1:sppos]"
   ]
  },
  {
   "cell_type": "code",
   "execution_count": null,
   "id": "af53093d",
   "metadata": {},
   "outputs": [],
   "source": [
    "print(host)"
   ]
  },
  {
   "cell_type": "code",
   "execution_count": null,
   "id": "ea3258ac",
   "metadata": {},
   "outputs": [],
   "source": [
    "print(\"In a few months, about %d months, I'll start working for %g companies in %s\"%(3, 2, \"Russia\"))"
   ]
  },
  {
   "cell_type": "code",
   "execution_count": null,
   "id": "816bc278",
   "metadata": {},
   "outputs": [],
   "source": [
    "while True:\n",
    "    line = input('>')\n",
    "    if line[0] == '#':\n",
    "        continue\n",
    "    if line == 'done':\n",
    "        break\n",
    "print('Done')"
   ]
  },
  {
   "cell_type": "code",
   "execution_count": null,
   "id": "2bcc66a0",
   "metadata": {},
   "outputs": [],
   "source": [
    "hstr = 'X-DSPAM-Confidence:0.8475'"
   ]
  },
  {
   "cell_type": "code",
   "execution_count": null,
   "id": "b8a46f49",
   "metadata": {},
   "outputs": [],
   "source": [
    "'X-DSPAM-Confidence:0.8475'.format(\"\")"
   ]
  },
  {
   "cell_type": "code",
   "execution_count": null,
   "id": "21e76903",
   "metadata": {},
   "outputs": [],
   "source": [
    "after_col_char = hstr.find(':')"
   ]
  },
  {
   "cell_type": "code",
   "execution_count": null,
   "id": "d3f945d1",
   "metadata": {},
   "outputs": [],
   "source": [
    "after_col_char"
   ]
  },
  {
   "cell_type": "code",
   "execution_count": null,
   "id": "c859ea6e",
   "metadata": {},
   "outputs": [],
   "source": [
    "print(hstr[after_col_char+1:])"
   ]
  },
  {
   "cell_type": "code",
   "execution_count": null,
   "id": "42eef3c8",
   "metadata": {},
   "outputs": [],
   "source": [
    "afloat_num = float(hstr[after_col_char+1:])"
   ]
  },
  {
   "cell_type": "code",
   "execution_count": null,
   "id": "35268c65",
   "metadata": {},
   "outputs": [],
   "source": [
    "afloat_num"
   ]
  },
  {
   "cell_type": "code",
   "execution_count": null,
   "id": "7360b59a",
   "metadata": {},
   "outputs": [],
   "source": [
    "type(afloat_num)"
   ]
  },
  {
   "cell_type": "code",
   "execution_count": null,
   "id": "76908457",
   "metadata": {},
   "outputs": [],
   "source": [
    "dir(str)"
   ]
  },
  {
   "cell_type": "code",
   "execution_count": null,
   "id": "aeed700f",
   "metadata": {},
   "outputs": [],
   "source": [
    "numbers = [3, 5, 6]\n",
    "for i in range(len(numbers)):\n",
    "    numbers[i] = numbers[i]*5"
   ]
  },
  {
   "cell_type": "code",
   "execution_count": null,
   "id": "64c5086e",
   "metadata": {},
   "outputs": [],
   "source": [
    "print(numbers[i])"
   ]
  },
  {
   "cell_type": "code",
   "execution_count": null,
   "id": "b00b75c5",
   "metadata": {},
   "outputs": [],
   "source": [
    "total = 0\n",
    "count = 0\n",
    "while True:\n",
    "    inp = input('Enter a number: ')\n",
    "    if inp == 'done':break\n",
    "    value = float(inp)\n",
    "    total += value\n",
    "    count += 1\n",
    "average = total/count\n",
    "print('average: %d, total %g, count %s'%(average, total, count))\n",
    "    "
   ]
  },
  {
   "cell_type": "code",
   "execution_count": null,
   "id": "948c8949",
   "metadata": {},
   "outputs": [],
   "source": [
    "alist = []\n",
    "while (True):\n",
    "    add_input = input('Enter a number: ')\n",
    "    if add_input == 'ok':\n",
    "        break\n",
    "    value = float(add_input)\n",
    "    alist.append(value)\n",
    "average = sum(alist)/len(alist)\n",
    "print('Average: %d\\nSum: %g\\nLength of list: %s\\nThe list: '%(average, sum(alist), len(alist)), alist)"
   ]
  },
  {
   "cell_type": "code",
   "execution_count": null,
   "id": "461574f9",
   "metadata": {},
   "outputs": [],
   "source": [
    "help()"
   ]
  },
  {
   "cell_type": "code",
   "execution_count": null,
   "id": "6a499338",
   "metadata": {},
   "outputs": [],
   "source": [
    "aword = 'I love coding in python'"
   ]
  },
  {
   "cell_type": "code",
   "execution_count": null,
   "id": "a7f6fce1",
   "metadata": {},
   "outputs": [],
   "source": [
    "code_list = aword.split(' ')"
   ]
  },
  {
   "cell_type": "code",
   "execution_count": null,
   "id": "eda1399c",
   "metadata": {},
   "outputs": [],
   "source": [
    "code_list"
   ]
  },
  {
   "cell_type": "code",
   "execution_count": null,
   "id": "eebe6133",
   "metadata": {},
   "outputs": [],
   "source": [
    "index_two = code_list[1]"
   ]
  },
  {
   "cell_type": "code",
   "execution_count": null,
   "id": "13683aa2",
   "metadata": {},
   "outputs": [],
   "source": [
    "lis = list(index_two)"
   ]
  },
  {
   "cell_type": "code",
   "execution_count": null,
   "id": "1b01deea",
   "metadata": {},
   "outputs": [],
   "source": [
    "lis"
   ]
  },
  {
   "cell_type": "code",
   "execution_count": null,
   "id": "09b35358",
   "metadata": {},
   "outputs": [],
   "source": [
    "code_list"
   ]
  },
  {
   "cell_type": "code",
   "execution_count": null,
   "id": "5106b6fd",
   "metadata": {},
   "outputs": [],
   "source": [
    "ajoin_str = ' '.join(code_list)"
   ]
  },
  {
   "cell_type": "code",
   "execution_count": null,
   "id": "c5268290",
   "metadata": {},
   "outputs": [],
   "source": [
    "ajoin_str"
   ]
  },
  {
   "cell_type": "code",
   "execution_count": null,
   "id": "3f730661",
   "metadata": {},
   "outputs": [],
   "source": [
    "import os"
   ]
  },
  {
   "cell_type": "code",
   "execution_count": null,
   "id": "e095a5d8",
   "metadata": {},
   "outputs": [],
   "source": [
    "os.chdir('D:/MLProject')"
   ]
  },
  {
   "cell_type": "code",
   "execution_count": null,
   "id": "c759430f",
   "metadata": {},
   "outputs": [],
   "source": [
    "fhand = open('pythonlearn.txt')"
   ]
  },
  {
   "cell_type": "code",
   "execution_count": null,
   "id": "ed9ec216",
   "metadata": {},
   "outputs": [],
   "source": [
    "for line in fhand:\n",
    "    words = line.split()\n",
    "    if words[0]!= 'From':\n",
    "        continue\n",
    "    print(words[2])"
   ]
  },
  {
   "cell_type": "code",
   "execution_count": null,
   "id": "e18fb32a",
   "metadata": {},
   "outputs": [],
   "source": []
  },
  {
   "cell_type": "code",
   "execution_count": null,
   "id": "e2556b10",
   "metadata": {},
   "outputs": [],
   "source": [
    "list_str = [\"a\", \"b\", \"c\", \"d\", \"e\"]"
   ]
  },
  {
   "cell_type": "code",
   "execution_count": null,
   "id": "14cd6d69",
   "metadata": {},
   "outputs": [],
   "source": [
    "list_str.__len__()"
   ]
  },
  {
   "cell_type": "code",
   "execution_count": null,
   "id": "630790a7",
   "metadata": {},
   "outputs": [],
   "source": [
    "def del_head(list_str):\n",
    "    del list_str[0]"
   ]
  },
  {
   "cell_type": "code",
   "execution_count": null,
   "id": "d10f42f8",
   "metadata": {},
   "outputs": [],
   "source": [
    "del_head(list_str)"
   ]
  },
  {
   "cell_type": "code",
   "execution_count": null,
   "id": "d2df9ed6",
   "metadata": {},
   "outputs": [],
   "source": [
    "print(list_str)"
   ]
  },
  {
   "cell_type": "code",
   "execution_count": null,
   "id": "c4a97fc3",
   "metadata": {},
   "outputs": [],
   "source": [
    "dir(list)"
   ]
  },
  {
   "cell_type": "code",
   "execution_count": null,
   "id": "acd7b768",
   "metadata": {},
   "outputs": [],
   "source": [
    "s = 'shap', 'hash', 'dash', 'wash'\n",
    "#s = ('shap', 'hash', 'dash', 'wash') is same as the above tiple"
   ]
  },
  {
   "cell_type": "code",
   "execution_count": null,
   "id": "6abeadb6",
   "metadata": {},
   "outputs": [],
   "source": [
    "s"
   ]
  },
  {
   "cell_type": "code",
   "execution_count": null,
   "id": "a0b73b2c",
   "metadata": {},
   "outputs": [],
   "source": [
    "atup = 'a',"
   ]
  },
  {
   "cell_type": "code",
   "execution_count": null,
   "id": "7d134646",
   "metadata": {},
   "outputs": [],
   "source": [
    "type(atup)"
   ]
  },
  {
   "cell_type": "code",
   "execution_count": null,
   "id": "9f49ff75",
   "metadata": {},
   "outputs": [],
   "source": [
    "s = tuple('tuplesareimmtuable')"
   ]
  },
  {
   "cell_type": "code",
   "execution_count": null,
   "id": "23f2770d",
   "metadata": {},
   "outputs": [],
   "source": [
    "s"
   ]
  },
  {
   "cell_type": "code",
   "execution_count": null,
   "id": "c93696be",
   "metadata": {},
   "outputs": [],
   "source": [
    "s[1]"
   ]
  },
  {
   "cell_type": "code",
   "execution_count": null,
   "id": "c347ae52",
   "metadata": {},
   "outputs": [],
   "source": [
    "s[1:len(s)-1]"
   ]
  },
  {
   "cell_type": "code",
   "execution_count": null,
   "id": "ae1c2475",
   "metadata": {},
   "outputs": [],
   "source": [
    "s = ('lists',) + s[5:]"
   ]
  },
  {
   "cell_type": "code",
   "execution_count": null,
   "id": "9ca7f1f2",
   "metadata": {},
   "outputs": [],
   "source": [
    "s"
   ]
  },
  {
   "cell_type": "code",
   "execution_count": null,
   "id": "d953c81b",
   "metadata": {},
   "outputs": [],
   "source": [
    "s=''.join(s)"
   ]
  },
  {
   "cell_type": "code",
   "execution_count": null,
   "id": "91a3cb97",
   "metadata": {},
   "outputs": [],
   "source": [
    "s"
   ]
  },
  {
   "cell_type": "code",
   "execution_count": null,
   "id": "e54b3d4a",
   "metadata": {},
   "outputs": [],
   "source": [
    "s = tuple(s)"
   ]
  },
  {
   "cell_type": "code",
   "execution_count": null,
   "id": "bf609024",
   "metadata": {},
   "outputs": [],
   "source": [
    "s"
   ]
  },
  {
   "cell_type": "code",
   "execution_count": null,
   "id": "934391c9",
   "metadata": {},
   "outputs": [],
   "source": [
    "0<0"
   ]
  },
  {
   "cell_type": "code",
   "execution_count": null,
   "id": "498475f4",
   "metadata": {},
   "outputs": [],
   "source": [
    "(0, 1, 2)<(0, 3, 4)"
   ]
  },
  {
   "cell_type": "code",
   "execution_count": null,
   "id": "4925ee6c",
   "metadata": {},
   "outputs": [],
   "source": [
    "(1, 2, 3)<(1, 2, 5)"
   ]
  },
  {
   "cell_type": "code",
   "execution_count": null,
   "id": "f155c20d",
   "metadata": {},
   "outputs": [],
   "source": [
    "t =[]\n",
    "txt = 'but soft what light in yonder window breaks'\n",
    "words = txt.split()\n",
    "for word in words:\n",
    "    t.append((len(word), word))\n",
    "print(t)"
   ]
  },
  {
   "cell_type": "code",
   "execution_count": null,
   "id": "f22e8cf7",
   "metadata": {},
   "outputs": [],
   "source": [
    "#txt = 'but soft what light in yonder window breaks'\n",
    "#t = []\n",
    "#t.append([(len(word), word )for word in words])"
   ]
  },
  {
   "cell_type": "code",
   "execution_count": null,
   "id": "5beee3b4",
   "metadata": {},
   "outputs": [],
   "source": [
    "t.sort()"
   ]
  },
  {
   "cell_type": "code",
   "execution_count": null,
   "id": "97b297e0",
   "metadata": {},
   "outputs": [],
   "source": [
    "t.sort(reverse = True)"
   ]
  },
  {
   "cell_type": "code",
   "execution_count": null,
   "id": "bee7330d",
   "metadata": {},
   "outputs": [],
   "source": [
    "t"
   ]
  },
  {
   "cell_type": "code",
   "execution_count": null,
   "id": "d9a29eef",
   "metadata": {},
   "outputs": [],
   "source": [
    "res = list()\n",
    "for (length, word) in t:\n",
    "    res.append(word)\n",
    "print(res)"
   ]
  },
  {
   "cell_type": "code",
   "execution_count": null,
   "id": "b4f88ca2",
   "metadata": {},
   "outputs": [],
   "source": [
    "m = [['have', 'fun'], ['love', 'ones']]"
   ]
  },
  {
   "cell_type": "code",
   "execution_count": null,
   "id": "873e0360",
   "metadata": {},
   "outputs": [],
   "source": [
    "x, y = m # (x, y) = m"
   ]
  },
  {
   "cell_type": "code",
   "execution_count": null,
   "id": "2343f47b",
   "metadata": {},
   "outputs": [],
   "source": [
    "x"
   ]
  },
  {
   "cell_type": "code",
   "execution_count": null,
   "id": "7920e5ac",
   "metadata": {},
   "outputs": [],
   "source": [
    "y[0]"
   ]
  },
  {
   "cell_type": "code",
   "execution_count": null,
   "id": "589f2fed",
   "metadata": {},
   "outputs": [],
   "source": [
    "m[1][1]"
   ]
  },
  {
   "cell_type": "code",
   "execution_count": null,
   "id": "ef82f4b3",
   "metadata": {},
   "outputs": [],
   "source": [
    "d = {'have' : 'fun', 'love' : 'ones'}"
   ]
  },
  {
   "cell_type": "code",
   "execution_count": null,
   "id": "302d0c20",
   "metadata": {},
   "outputs": [],
   "source": [
    "u, h = d"
   ]
  },
  {
   "cell_type": "code",
   "execution_count": null,
   "id": "2a31aad3",
   "metadata": {},
   "outputs": [],
   "source": [
    "h"
   ]
  },
  {
   "cell_type": "code",
   "execution_count": null,
   "id": "dfcac0ff",
   "metadata": {},
   "outputs": [],
   "source": [
    "dir(list)"
   ]
  },
  {
   "cell_type": "code",
   "execution_count": null,
   "id": "d65f1ab9",
   "metadata": {},
   "outputs": [],
   "source": [
    "mail = 'sgaya@cm.perenco.com'\n",
    "user_name, domain  = mail.split('@')"
   ]
  },
  {
   "cell_type": "code",
   "execution_count": null,
   "id": "7b02ff75",
   "metadata": {},
   "outputs": [],
   "source": [
    "print(user_name)"
   ]
  },
  {
   "cell_type": "code",
   "execution_count": null,
   "id": "1d35a0a4",
   "metadata": {},
   "outputs": [],
   "source": [
    "print(domain)"
   ]
  },
  {
   "cell_type": "code",
   "execution_count": null,
   "id": "abf47557",
   "metadata": {},
   "outputs": [],
   "source": [
    "domain.find('.')"
   ]
  },
  {
   "cell_type": "code",
   "execution_count": null,
   "id": "96f35be3",
   "metadata": {},
   "outputs": [],
   "source": [
    "dot_pos = domain[2+1:-4]"
   ]
  },
  {
   "cell_type": "code",
   "execution_count": null,
   "id": "45318186",
   "metadata": {},
   "outputs": [],
   "source": [
    "print(dot_pos)"
   ]
  },
  {
   "cell_type": "code",
   "execution_count": null,
   "id": "ae8f75ce",
   "metadata": {},
   "outputs": [],
   "source": [
    "adstr = {'Country': ['Cameroon', 'Nigeria', 'Tchad'],\n",
    "        'Capital': ['Yaounde', 'Abuja', 'Ndjamena'], \n",
    "        'Population': [1892890, 723963270, 28093783]}"
   ]
  },
  {
   "cell_type": "code",
   "execution_count": null,
   "id": "862e04cf",
   "metadata": {},
   "outputs": [],
   "source": [
    "t = (adstr.items())"
   ]
  },
  {
   "cell_type": "code",
   "execution_count": null,
   "id": "df567a84",
   "metadata": {},
   "outputs": [],
   "source": [
    "t"
   ]
  },
  {
   "cell_type": "code",
   "execution_count": null,
   "id": "63638466",
   "metadata": {},
   "outputs": [],
   "source": [
    "t.sort()"
   ]
  },
  {
   "cell_type": "code",
   "execution_count": null,
   "id": "f728660e",
   "metadata": {},
   "outputs": [],
   "source": [
    "keys_list = []\n",
    "for key in t:\n",
    "    print(key[1])\n",
    "    keys_list.append(key[1][1])\n",
    "print(keys_list)\n",
    "    \n",
    "    "
   ]
  },
  {
   "cell_type": "code",
   "execution_count": null,
   "id": "8971f42c",
   "metadata": {},
   "outputs": [],
   "source": [
    "for key, val in list(data.items()):\n",
    "    "
   ]
  },
  {
   "cell_type": "code",
   "execution_count": null,
   "id": "f29c6f5d",
   "metadata": {},
   "outputs": [],
   "source": [
    "2**10"
   ]
  },
  {
   "cell_type": "code",
   "execution_count": null,
   "id": "1be6599d",
   "metadata": {
    "scrolled": true
   },
   "outputs": [],
   "source": [
    "[print('%c'%i) for i in range(33, 256)]"
   ]
  },
  {
   "cell_type": "code",
   "execution_count": null,
   "id": "52d73117",
   "metadata": {},
   "outputs": [],
   "source": [
    "import os\n",
    "os.chdir('D:')\n",
    "\n",
    "fhand = open('mbox-shot.txt')\n",
    "\n",
    "type(fhand)\n",
    "\n",
    "count = 0\n",
    "for line in fhand:\n",
    "    count = count + 1\n",
    "    print(line)\n",
    "print('count: ', count)"
   ]
  },
  {
   "cell_type": "code",
   "execution_count": null,
   "id": "e2246843",
   "metadata": {},
   "outputs": [],
   "source": [
    "import string\n",
    "for line in fhand:\n",
    "    if line.startswith('From:'):\n",
    "        print(line)"
   ]
  },
  {
   "cell_type": "code",
   "execution_count": null,
   "id": "18e12d82",
   "metadata": {},
   "outputs": [],
   "source": [
    "dir(string)"
   ]
  },
  {
   "cell_type": "code",
   "execution_count": null,
   "id": "acfd3648",
   "metadata": {},
   "outputs": [],
   "source": [
    "import re\n",
    "fhand = open('mbox-shot.txt')\n",
    "\n",
    "for line in fhand:\n",
    "    line = line.rstrip()\n",
    "    if re.search('From', line):\n",
    "        print(line)\n",
    "    \n",
    "    "
   ]
  },
  {
   "cell_type": "code",
   "execution_count": null,
   "id": "dcf38ecd",
   "metadata": {},
   "outputs": [],
   "source": [
    "dir(re)"
   ]
  },
  {
   "cell_type": "code",
   "execution_count": null,
   "id": "ff3a6159",
   "metadata": {},
   "outputs": [],
   "source": [
    "import re\n",
    "fhand = open('mbox-shot.txt')\n",
    "\n",
    "for line in fhand:\n",
    "    line = line.rstrip()\n",
    "    if re.search('^From.*:', line):\n",
    "        #lst = re.findall('[0-9]+', line)\n",
    "        print(line)\n",
    "    \n",
    "    "
   ]
  },
  {
   "cell_type": "code",
   "execution_count": null,
   "id": "b299eca0",
   "metadata": {},
   "outputs": [],
   "source": [
    "for line in fhand:\n",
    "    line = line.rstrip()\n",
    "    if re.search('^From.*@[^ ]*', line):\n",
    "        #lst = re.findall('[0-9]+', line)\n",
    "        print(line)"
   ]
  },
  {
   "cell_type": "code",
   "execution_count": null,
   "id": "677838d2",
   "metadata": {},
   "outputs": [],
   "source": [
    "# import socket\n",
    "# asock = socket.socket(socket.AF_INET, socket.SOCK_STREAM)\n",
    "# asock.connect(('data.pr4e.org', 80))"
   ]
  },
  {
   "cell_type": "markdown",
   "id": "cf868655",
   "metadata": {},
   "source": [
    "web browser"
   ]
  },
  {
   "cell_type": "code",
   "execution_count": null,
   "id": "a21f81c5",
   "metadata": {},
   "outputs": [],
   "source": [
    "import urllib.request, urllib.parse, urllib.error\n",
    "fhand = urllib.request.urlopen('http://data.pr4e.org/romeo.txt')\n",
    "for line in fhand:\n",
    "    print(line.decode().strip())"
   ]
  },
  {
   "cell_type": "code",
   "execution_count": 2,
   "id": "62cc1210",
   "metadata": {},
   "outputs": [
    {
     "name": "stdout",
     "output_type": "stream",
     "text": [
      "HTTP/1.1 400 Bad Request\r\n",
      "Date: Wed, 15 Mar 2023 15:12:39 GMT\r\n",
      "Server: Apache/2.4.18 (Ubuntu)\r\n",
      "Content-Length: 308\r\n",
      "Connection: close\r\n",
      "Content-Type: text/html; charset=iso-8859-1\r\n",
      "\r\n",
      "<!DOCTYPE HTML PUBLIC \"-//IETF//DTD HTML 2.0//EN\">\n",
      "<html><head>\n",
      "<title>400 Bad Request</title>\n",
      "</head><body>\n",
      "<h1>Bad Request</h1>\n",
      "<p>Your browser sent a request that this server could not understand.<br />\n",
      "</p>\n",
      "<hr>\n",
      "<address>Apache/2.4.18 (Ubuntu) Server at do1.dr-chuck.com Port 80</address>\n",
      "</body></html>\n",
      "\n"
     ]
    }
   ],
   "source": [
    "import socket\n",
    "\n",
    "asock = socket.socket(socket.AF_INET, socket.SOCK_STREAM)\n",
    "asock.connect((\"data.pr4e.org\", 80))\n",
    "cmd = 'GET http://data.pr4e.org/romeo.txt HTTP/1.0\\n\\n'.encode()\n",
    "asock.send(cmd)\n",
    "while True:\n",
    "    data = asock.recv(512)\n",
    "    if (len(data)<1):\n",
    "        break\n",
    "    print(data.decode())\n",
    "asock.close()\n"
   ]
  },
  {
   "cell_type": "code",
   "execution_count": null,
   "id": "a0927a3f",
   "metadata": {},
   "outputs": [],
   "source": [
    "dir(socket)"
   ]
  },
  {
   "cell_type": "code",
   "execution_count": null,
   "id": "bd9e13fa",
   "metadata": {},
   "outputs": [],
   "source": [
    "print(ord('v'))"
   ]
  },
  {
   "cell_type": "code",
   "execution_count": null,
   "id": "8c1d552f",
   "metadata": {},
   "outputs": [],
   "source": [
    "x = b'abc'"
   ]
  },
  {
   "cell_type": "code",
   "execution_count": null,
   "id": "114caf24",
   "metadata": {},
   "outputs": [],
   "source": [
    "strs = 'strings'"
   ]
  },
  {
   "cell_type": "code",
   "execution_count": null,
   "id": "03cf4481",
   "metadata": {},
   "outputs": [],
   "source": [
    "x.isascii()"
   ]
  },
  {
   "cell_type": "code",
   "execution_count": null,
   "id": "3c84d0b7",
   "metadata": {},
   "outputs": [],
   "source": [
    "type(strs)"
   ]
  },
  {
   "cell_type": "code",
   "execution_count": null,
   "id": "c7314239",
   "metadata": {},
   "outputs": [],
   "source": [
    "strs.isascii()"
   ]
  },
  {
   "cell_type": "code",
   "execution_count": null,
   "id": "1b2579b1",
   "metadata": {},
   "outputs": [],
   "source": [
    "dir(strs)"
   ]
  },
  {
   "cell_type": "code",
   "execution_count": 9,
   "id": "a400ebef",
   "metadata": {},
   "outputs": [
    {
     "name": "stdout",
     "output_type": "stream",
     "text": [
      "{'<h1>The': 1, 'First': 1, 'Page</h1>': 1, '<p>': 1, 'If': 1, 'you': 2, 'like,': 1, 'can': 1, 'switch': 1, 'to': 1, 'the': 1, '<a': 1, 'href=\"http://www.dr-chuck.com/page2.htm\">': 1, 'Second': 1, 'Page</a>.': 1, '</p>': 1}\n"
     ]
    }
   ],
   "source": [
    "import urllib.request, urllib.parse, urllib.error\n",
    "\n",
    "fhand = urllib.request.urlopen('http://www.dr-chuck.com/page1.htm')\n",
    "counts = {}\n",
    "for line in fhand:\n",
    "    words = line.decode().split()\n",
    "    for word in words:\n",
    "        counts[word] = counts.get(word, 0) + 1\n",
    "print(counts)\n",
    "#     print(line.decode().strip())\n",
    "\n"
   ]
  },
  {
   "cell_type": "code",
   "execution_count": null,
   "id": "44a25461",
   "metadata": {},
   "outputs": [],
   "source": []
  }
 ],
 "metadata": {
  "celltoolbar": "Pièces jointes",
  "kernelspec": {
   "display_name": "Python 3 (ipykernel)",
   "language": "python",
   "name": "python3"
  },
  "language_info": {
   "codemirror_mode": {
    "name": "ipython",
    "version": 3
   },
   "file_extension": ".py",
   "mimetype": "text/x-python",
   "name": "python",
   "nbconvert_exporter": "python",
   "pygments_lexer": "ipython3",
   "version": "3.9.12"
  },
  "widgets": {
   "application/vnd.jupyter.widget-state+json": {
    "state": {},
    "version_major": 2,
    "version_minor": 0
   }
  }
 },
 "nbformat": 4,
 "nbformat_minor": 5
}
